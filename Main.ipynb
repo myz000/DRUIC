{
 "cells": [
  {
   "cell_type": "code",
   "execution_count": 2,
   "id": "4c484967",
   "metadata": {},
   "outputs": [
    {
     "name": "stdout",
     "output_type": "stream",
     "text": [
      "System version: 3.6.11 | packaged by conda-forge | (default, Nov 27 2020, 18:57:37) \n",
      "[GCC 9.3.0]\n",
      "Tensorflow version: 1.15.4\n",
      "Num GPUs Available:  1\n"
     ]
    }
   ],
   "source": [
    "import sys\n",
    "import os\n",
    "import numpy as np\n",
    "import tensorflow as tf\n",
    "tf.get_logger().setLevel('ERROR') # only show error messages\n",
    "\n",
    "from newsrec_utils import prepare_hparams\n",
    "\n",
    "print(\"System version: {}\".format(sys.version))\n",
    "print(\"Tensorflow version: {}\".format(tf.__version__))\n",
    "\n",
    "os.environ[\"CUDA_VISIBLE_DEVICES\"]=\"0\"\n",
    "\n",
    "print(\"Num GPUs Available: \", len(tf.config.experimental.list_physical_devices('GPU')))"
   ]
  },
  {
   "cell_type": "code",
   "execution_count": 3,
   "id": "4bf2e48c",
   "metadata": {},
   "outputs": [],
   "source": [
    "epochs = 8\n",
    "seed = 42\n",
    "batch_size = 32\n",
    "\n",
    "MIND_type = 'small'"
   ]
  },
  {
   "cell_type": "code",
   "execution_count": 7,
   "id": "06b37215",
   "metadata": {},
   "outputs": [],
   "source": [
    "data_path = 'dataset/MIND'+MIND_type\n",
    "train_news_file = os.path.join(data_path, 'train', r'news.tsv')\n",
    "train_behaviors_file = os.path.join(data_path, 'train', r'train_behaviors.tsv')\n",
    "wordEmb_file = os.path.join(data_path, \"utils\", \"embedding_all.npy\")\n",
    "userDict_file = os.path.join(data_path, \"utils\", \"uid2index.pkl\")\n",
    "wordDict_file = os.path.join(data_path, \"utils\", \"word_dict_all.pkl\")\n",
    "vertDict_file = os.path.join(data_path, \"utils\", \"vert_dict.pkl\")\n",
    "subvertDict_file = os.path.join(data_path, \"utils\", \"subvert_dict.pkl\")\n",
    "yaml_file = os.path.join(data_path, \"utils\", r'DRUIC.yaml')\n",
    "\n",
    "valid_news_file = os.path.join(data_path, 'train', r'news.tsv')\n",
    "valid_behaviors_file = os.path.join(data_path, 'train', r'val_behaviors.tsv')\n",
    "test_news_file = os.path.join(data_path, 'valid', r'news.tsv')\n",
    "test_behaviors_file = os.path.join(data_path, 'valid', r'test_behaviors.tsv')"
   ]
  },
  {
   "cell_type": "code",
   "execution_count": 5,
   "id": "e509ba4e",
   "metadata": {},
   "outputs": [],
   "source": [
    "from mind_all_iterator import MINDAllIterator\n",
    "from DRUIC import DRUIC\n",
    "import json\n",
    "from datetime import datetime"
   ]
  },
  {
   "cell_type": "code",
   "execution_count": 9,
   "id": "5b6bd48b",
   "metadata": {},
   "outputs": [],
   "source": [
    "hparams = prepare_hparams(\n",
    "    yaml_file, \n",
    "    wordEmb_file=wordEmb_file,\n",
    "    wordDict_file=wordDict_file, \n",
    "    userDict_file=userDict_file,\n",
    "    vertDict_file=vertDict_file, \n",
    "    subvertDict_file=subvertDict_file,\n",
    "    batch_size=batch_size,\n",
    "    epochs=epochs,\n",
    "    show_step=10,\n",
    "    support_quick_scoring=False\n",
    "            )  "
   ]
  },
  {
   "cell_type": "code",
   "execution_count": 10,
   "id": "dadea42f",
   "metadata": {},
   "outputs": [
    {
     "name": "stdout",
     "output_type": "stream",
     "text": [
      "finish initial Iterator\n",
      "finish initial Iterator\n",
      "finish initial Iterator\n",
      "start _build_graph...\n"
     ]
    }
   ],
   "source": [
    "iterator = MINDAllIterator\n",
    "model = DRUIC(hparams, iterator,seed=seed)\n"
   ]
  },
  {
   "cell_type": "code",
   "execution_count": null,
   "id": "1e82fc43",
   "metadata": {},
   "outputs": [],
   "source": [
    "model.fit(train_news_file, train_behaviors_file,None, None)\n",
    "res_syn = model.run_eval(test_news_file, test_behaviors_file,'test')"
   ]
  }
 ],
 "metadata": {
  "kernelspec": {
   "display_name": "Python (reco_gpu)",
   "language": "python",
   "name": "reco_gpu"
  },
  "language_info": {
   "codemirror_mode": {
    "name": "ipython",
    "version": 3
   },
   "file_extension": ".py",
   "mimetype": "text/x-python",
   "name": "python",
   "nbconvert_exporter": "python",
   "pygments_lexer": "ipython3",
   "version": "3.6.11"
  },
  "toc": {
   "base_numbering": 1,
   "nav_menu": {},
   "number_sections": true,
   "sideBar": true,
   "skip_h1_title": false,
   "title_cell": "Table of Contents",
   "title_sidebar": "Contents",
   "toc_cell": false,
   "toc_position": {
    "height": "calc(100% - 180px)",
    "left": "10px",
    "top": "150px",
    "width": "232.718px"
   },
   "toc_section_display": true,
   "toc_window_display": true
  },
  "varInspector": {
   "cols": {
    "lenName": 16,
    "lenType": 16,
    "lenVar": 40
   },
   "kernels_config": {
    "python": {
     "delete_cmd_postfix": "",
     "delete_cmd_prefix": "del ",
     "library": "var_list.py",
     "varRefreshCmd": "print(var_dic_list())"
    },
    "r": {
     "delete_cmd_postfix": ") ",
     "delete_cmd_prefix": "rm(",
     "library": "var_list.r",
     "varRefreshCmd": "cat(var_dic_list()) "
    }
   },
   "types_to_exclude": [
    "module",
    "function",
    "builtin_function_or_method",
    "instance",
    "_Feature"
   ],
   "window_display": false
  }
 },
 "nbformat": 4,
 "nbformat_minor": 5
}
