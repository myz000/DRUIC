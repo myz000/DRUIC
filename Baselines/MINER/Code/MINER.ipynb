{
 "cells": [
  {
   "cell_type": "code",
   "execution_count": 1,
   "metadata": {
    "scrolled": true
   },
   "outputs": [],
   "source": [
    "import os\n",
    "os.environ[\"CUDA_VISIBLE_DEVICES\"] = \"0\"\n",
    "import tensorflow as tf\n",
    "from tensorflow.keras import layers\n",
    "\n",
    "from Hypers import *\n",
    "from Utils import *\n",
    "from Preprocessing import *\n",
    "from Generator import *\n",
    "from Models import *\n"
   ]
  },
  {
   "cell_type": "code",
   "execution_count": 4,
   "metadata": {},
   "outputs": [],
   "source": [
    "data_path = ''\n",
    "\n",
    "train_news_file = os.path.join(data_path, 'train', r'news.tsv')\n",
    "train_behaviors_file = os.path.join(data_path, 'train', r'train_behaviors.tsv')\n",
    "valid_news_file = os.path.join(data_path, 'train', r'news.tsv')\n",
    "valid_behaviors_file = os.path.join(data_path, 'train', r'val_behaviors.tsv')\n",
    "test_news_file = os.path.join(data_path, 'valid', r'news.tsv')\n",
    "test_behaviors_file = os.path.join(data_path, 'valid', r'test_behaviors.tsv')"
   ]
  },
  {
   "cell_type": "code",
   "execution_count": 6,
   "metadata": {},
   "outputs": [],
   "source": [
    "news,news_index,category_dict,subcategory_dict,word_dict,content_dict,entity_dict = read_news([train_news_file,test_news_file])\n",
    "news_title,news_vert,news_subvert,news_entity,news_content,news_origin_title=get_doc_input(news,news_index,category_dict,subcategory_dict,word_dict,content_dict,entity_dict)\n",
    "word_embedding_path = '/home/myz/model/recommendations/pre-trained-model/glove.840B.300d.txt'\n",
    "title_word_embedding_matrix, have_word = load_matrix(word_embedding_path,word_dict)\n",
    "\n",
    "news_info = np.concatenate([news_title,news_vert.reshape((-1,1))],axis=-1)\n"
   ]
  },
  {
   "cell_type": "code",
   "execution_count": null,
   "metadata": {},
   "outputs": [],
   "source": [
    "vert_embedding_matrix = np.zeros((19,300),dtype='float32')\n",
    "for k,v in category_dict.items():\n",
    "    if v==9 or v==16 or v==17:\n",
    "        continue\n",
    "    vert_embedding_matrix[v]=title_word_embedding_matrix[word_dict[k]]\n",
    "    \n",
    "vert_embedding_matrix[9]=(title_word_embedding_matrix[word_dict['food']]+title_word_embedding_matrix[word_dict['and']]+title_word_embedding_matrix[word_dict['drink']])/3\n",
    "vert_embedding_matrix[16]=(title_word_embedding_matrix[word_dict['middle']]+title_word_embedding_matrix[word_dict['east']])\n",
    "vert_embedding_matrix[17]=(title_word_embedding_matrix[word_dict['north']]+title_word_embedding_matrix[word_dict['america']])"
   ]
  },
  {
   "cell_type": "code",
   "execution_count": null,
   "metadata": {},
   "outputs": [],
   "source": [
    "train_session = read_train_clickhistory(news_index,data_path,'train/train_behaviors.tsv',filter_num)\n",
    "train_user = parse_user(news_index,train_session)\n",
    "train_sess, train_user_id, train_label = get_train_input(news_index,train_session)\n",
    "train_generator = get_hir_train_generator(news_info,train_user['click'],train_user_id,train_sess,train_label,32)\n",
    "\n",
    "test_session = read_test_clickhistory(news_index,data_path,'valid/test_behaviors.tsv',filter_num)\n",
    "test_user = parse_user(news_index,test_session)\n",
    "test_docids, test_userids, test_labels, test_bound = get_test_input(news_index,test_session)\n",
    "\n",
    "model,inter_model = create_model(title_word_embedding_matrix,vert_embedding_matrix)\n",
    "model.fit_generator(train_generator,epochs=8)\n",
    "\n",
    "test_generator = get_test_generator(news_info,test_docids,test_userids,test_user['click'],32)\n",
    "predicted_label = inter_model.predict_generator(test_generator,verbose=1)\n",
    "AUC, MRR, nDCG5, nDCG10 = evaluate(predicted_label,test_labels,test_bound)"
   ]
  }
 ],
 "metadata": {
  "kernelspec": {
   "display_name": "Python (reco_gpu)",
   "language": "python",
   "name": "reco_gpu"
  },
  "language_info": {
   "codemirror_mode": {
    "name": "ipython",
    "version": 3
   },
   "file_extension": ".py",
   "mimetype": "text/x-python",
   "name": "python",
   "nbconvert_exporter": "python",
   "pygments_lexer": "ipython3",
   "version": "3.6.11"
  },
  "toc": {
   "base_numbering": 1,
   "nav_menu": {},
   "number_sections": true,
   "sideBar": true,
   "skip_h1_title": false,
   "title_cell": "Table of Contents",
   "title_sidebar": "Contents",
   "toc_cell": false,
   "toc_position": {
    "height": "calc(100% - 180px)",
    "left": "10px",
    "top": "150px",
    "width": "182.5px"
   },
   "toc_section_display": true,
   "toc_window_display": true
  },
  "varInspector": {
   "cols": {
    "lenName": 16,
    "lenType": 16,
    "lenVar": 40
   },
   "kernels_config": {
    "python": {
     "delete_cmd_postfix": "",
     "delete_cmd_prefix": "del ",
     "library": "var_list.py",
     "varRefreshCmd": "print(var_dic_list())"
    },
    "r": {
     "delete_cmd_postfix": ") ",
     "delete_cmd_prefix": "rm(",
     "library": "var_list.r",
     "varRefreshCmd": "cat(var_dic_list()) "
    }
   },
   "position": {
    "height": "287.86px",
    "left": "793.636px",
    "right": "20px",
    "top": "120px",
    "width": "350px"
   },
   "types_to_exclude": [
    "module",
    "function",
    "builtin_function_or_method",
    "instance",
    "_Feature"
   ],
   "window_display": false
  }
 },
 "nbformat": 4,
 "nbformat_minor": 4
}
